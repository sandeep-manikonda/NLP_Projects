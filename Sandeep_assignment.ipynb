{
 "cells": [
  {
   "cell_type": "code",
   "execution_count": 1,
   "metadata": {},
   "outputs": [],
   "source": [
    "import pandas as pd\n",
    "import os\n",
    "import gensim\n",
    "\n",
    "import spacy\n",
    "nlp=spacy.load('en_core_web_lg') # large model which has about 685k unique vectors"
   ]
  },
  {
   "cell_type": "code",
   "execution_count": 2,
   "metadata": {},
   "outputs": [],
   "source": [
    "os.chdir(r'D:\\Sandeep_assignment\\data')"
   ]
  },
  {
   "cell_type": "code",
   "execution_count": 3,
   "metadata": {},
   "outputs": [
    {
     "data": {
      "text/html": [
       "<div>\n",
       "<style scoped>\n",
       "    .dataframe tbody tr th:only-of-type {\n",
       "        vertical-align: middle;\n",
       "    }\n",
       "\n",
       "    .dataframe tbody tr th {\n",
       "        vertical-align: top;\n",
       "    }\n",
       "\n",
       "    .dataframe thead th {\n",
       "        text-align: right;\n",
       "    }\n",
       "</style>\n",
       "<table border=\"1\" class=\"dataframe\">\n",
       "  <thead>\n",
       "    <tr style=\"text-align: right;\">\n",
       "      <th></th>\n",
       "      <th>id</th>\n",
       "      <th>text</th>\n",
       "    </tr>\n",
       "  </thead>\n",
       "  <tbody>\n",
       "    <tr>\n",
       "      <th>0</th>\n",
       "      <td>36527</td>\n",
       "      <td>The last trace of steam evaporated in the autu...</td>\n",
       "    </tr>\n",
       "    <tr>\n",
       "      <th>1</th>\n",
       "      <td>36521</td>\n",
       "      <td>But how the doors were slamming all along the ...</td>\n",
       "    </tr>\n",
       "    <tr>\n",
       "      <th>2</th>\n",
       "      <td>36406</td>\n",
       "      <td>Haven't you noticed how none of the spells you...</td>\n",
       "    </tr>\n",
       "    <tr>\n",
       "      <th>3</th>\n",
       "      <td>36395</td>\n",
       "      <td>Harry watched with terror and elation as Molly...</td>\n",
       "    </tr>\n",
       "    <tr>\n",
       "      <th>4</th>\n",
       "      <td>36383</td>\n",
       "      <td>Harry pulled the Invisibility Cloak from insid...</td>\n",
       "    </tr>\n",
       "  </tbody>\n",
       "</table>\n",
       "</div>"
      ],
      "text/plain": [
       "      id                                               text\n",
       "0  36527  The last trace of steam evaporated in the autu...\n",
       "1  36521  But how the doors were slamming all along the ...\n",
       "2  36406  Haven't you noticed how none of the spells you...\n",
       "3  36395  Harry watched with terror and elation as Molly...\n",
       "4  36383  Harry pulled the Invisibility Cloak from insid..."
      ]
     },
     "execution_count": 3,
     "metadata": {},
     "output_type": "execute_result"
    }
   ],
   "source": [
    "data=pd.read_csv('harry.csv',encoding='latin')\n",
    "data.head()"
   ]
  },
  {
   "cell_type": "code",
   "execution_count": 4,
   "metadata": {},
   "outputs": [],
   "source": [
    "ref_sent=data.loc[data['id'] ==1140,'text'].iloc[0] # Extract the reference sentence from the data"
   ]
  },
  {
   "cell_type": "code",
   "execution_count": 5,
   "metadata": {},
   "outputs": [],
   "source": [
    "ref_sent_words = gensim.utils.simple_preprocess(ref_sent) # Tokenize the the ref sentence into words"
   ]
  },
  {
   "cell_type": "code",
   "execution_count": 6,
   "metadata": {},
   "outputs": [],
   "source": [
    "ref_sent_vec = nlp(ref_sent) # Vectorize the tokens"
   ]
  },
  {
   "cell_type": "code",
   "execution_count": 7,
   "metadata": {},
   "outputs": [],
   "source": [
    "all_docs = [nlp(row) for row in data['text']] # Vectorize the tokens of all words in the data"
   ]
  },
  {
   "cell_type": "code",
   "execution_count": 8,
   "metadata": {},
   "outputs": [],
   "source": [
    "# Calculate similarity score using \"similarity\" funtion from spacy (Score ranges from 0 to 1, 1 being most similar)\n",
    "sims=[]\n",
    "doc_id=[]\n",
    "for i in range(len(all_docs)):\n",
    "    sim = all_docs[i].similarity(ref_sent_vec)\n",
    "    sims.append(sim)\n",
    "    doc_id.append(i)\n",
    "    sim_docs = pd.DataFrame(list(zip(doc_id,sims)),columns=['doc_id','sims']) # Create DataFrame of Document ID and similarity score"
   ]
  },
  {
   "cell_type": "code",
   "execution_count": 9,
   "metadata": {},
   "outputs": [
    {
     "data": {
      "text/html": [
       "<div>\n",
       "<style scoped>\n",
       "    .dataframe tbody tr th:only-of-type {\n",
       "        vertical-align: middle;\n",
       "    }\n",
       "\n",
       "    .dataframe tbody tr th {\n",
       "        vertical-align: top;\n",
       "    }\n",
       "\n",
       "    .dataframe thead th {\n",
       "        text-align: right;\n",
       "    }\n",
       "</style>\n",
       "<table border=\"1\" class=\"dataframe\">\n",
       "  <thead>\n",
       "    <tr style=\"text-align: right;\">\n",
       "      <th></th>\n",
       "      <th>doc_id</th>\n",
       "      <th>sims</th>\n",
       "    </tr>\n",
       "  </thead>\n",
       "  <tbody>\n",
       "    <tr>\n",
       "      <th>962</th>\n",
       "      <td>962</td>\n",
       "      <td>1.000000</td>\n",
       "    </tr>\n",
       "    <tr>\n",
       "      <th>17</th>\n",
       "      <td>17</td>\n",
       "      <td>0.970573</td>\n",
       "    </tr>\n",
       "    <tr>\n",
       "      <th>647</th>\n",
       "      <td>647</td>\n",
       "      <td>0.957789</td>\n",
       "    </tr>\n",
       "    <tr>\n",
       "      <th>749</th>\n",
       "      <td>749</td>\n",
       "      <td>0.954897</td>\n",
       "    </tr>\n",
       "    <tr>\n",
       "      <th>996</th>\n",
       "      <td>996</td>\n",
       "      <td>0.952174</td>\n",
       "    </tr>\n",
       "  </tbody>\n",
       "</table>\n",
       "</div>"
      ],
      "text/plain": [
       "     doc_id      sims\n",
       "962     962  1.000000\n",
       "17       17  0.970573\n",
       "647     647  0.957789\n",
       "749     749  0.954897\n",
       "996     996  0.952174"
      ]
     },
     "execution_count": 9,
     "metadata": {},
     "output_type": "execute_result"
    }
   ],
   "source": [
    "sim_docs_sorted = sim_docs.sort_values(by=\"sims\",ascending=False)\n",
    "sim_docs_sorted.head()"
   ]
  },
  {
   "cell_type": "code",
   "execution_count": 10,
   "metadata": {},
   "outputs": [
    {
     "data": {
      "text/html": [
       "<div>\n",
       "<style scoped>\n",
       "    .dataframe tbody tr th:only-of-type {\n",
       "        vertical-align: middle;\n",
       "    }\n",
       "\n",
       "    .dataframe tbody tr th {\n",
       "        vertical-align: top;\n",
       "    }\n",
       "\n",
       "    .dataframe thead th {\n",
       "        text-align: right;\n",
       "    }\n",
       "</style>\n",
       "<table border=\"1\" class=\"dataframe\">\n",
       "  <thead>\n",
       "    <tr style=\"text-align: right;\">\n",
       "      <th></th>\n",
       "      <th>id</th>\n",
       "      <th>text</th>\n",
       "    </tr>\n",
       "  </thead>\n",
       "  <tbody>\n",
       "    <tr>\n",
       "      <th>17</th>\n",
       "      <td>35736</td>\n",
       "      <td>She glanced at him and then looked back out of...</td>\n",
       "    </tr>\n",
       "    <tr>\n",
       "      <th>647</th>\n",
       "      <td>13239</td>\n",
       "      <td>He turned his head back to Harry and stared at...</td>\n",
       "    </tr>\n",
       "    <tr>\n",
       "      <th>749</th>\n",
       "      <td>9773</td>\n",
       "      <td>Harry lunged forward, he seized a handful of t...</td>\n",
       "    </tr>\n",
       "    <tr>\n",
       "      <th>996</th>\n",
       "      <td>19</td>\n",
       "      <td>For a second, Mr. Dursley didn't realize what ...</td>\n",
       "    </tr>\n",
       "    <tr>\n",
       "      <th>414</th>\n",
       "      <td>21444</td>\n",
       "      <td>Harry emerged from behind his towel; the chang...</td>\n",
       "    </tr>\n",
       "  </tbody>\n",
       "</table>\n",
       "</div>"
      ],
      "text/plain": [
       "        id                                               text\n",
       "17   35736  She glanced at him and then looked back out of...\n",
       "647  13239  He turned his head back to Harry and stared at...\n",
       "749   9773  Harry lunged forward, he seized a handful of t...\n",
       "996     19  For a second, Mr. Dursley didn't realize what ...\n",
       "414  21444  Harry emerged from behind his towel; the chang..."
      ]
     },
     "execution_count": 10,
     "metadata": {},
     "output_type": "execute_result"
    }
   ],
   "source": [
    "top_5_sim_docs = data.iloc[sim_docs_sorted['doc_id'][1:6]] # get only top 5 similar documents based on the score\n",
    "top_5_sim_docs"
   ]
  },
  {
   "cell_type": "code",
   "execution_count": 11,
   "metadata": {},
   "outputs": [
    {
     "name": "stdout",
     "output_type": "stream",
     "text": [
      "['She glanced at him and then looked back out of the window.']\n",
      "[\"He glanced at Harry and then looked quickly out of the window, pretending he hadn't looked.\"]\n"
     ]
    }
   ],
   "source": [
    "# Check by printing the most similar sentence and the reference sentence\n",
    "print(top_5_sim_docs[top_5_sim_docs['id']==35736]['text'].values)\n",
    "print(data[data['id']==1140]['text'].values)"
   ]
  },
  {
   "cell_type": "code",
   "execution_count": 12,
   "metadata": {},
   "outputs": [],
   "source": [
    "top_sim_scores = pd.concat([top_5_sim_docs, sim_docs_sorted['sims'][1:6]], axis=1)"
   ]
  },
  {
   "cell_type": "code",
   "execution_count": 13,
   "metadata": {},
   "outputs": [
    {
     "data": {
      "text/html": [
       "<div>\n",
       "<style scoped>\n",
       "    .dataframe tbody tr th:only-of-type {\n",
       "        vertical-align: middle;\n",
       "    }\n",
       "\n",
       "    .dataframe tbody tr th {\n",
       "        vertical-align: top;\n",
       "    }\n",
       "\n",
       "    .dataframe thead th {\n",
       "        text-align: right;\n",
       "    }\n",
       "</style>\n",
       "<table border=\"1\" class=\"dataframe\">\n",
       "  <thead>\n",
       "    <tr style=\"text-align: right;\">\n",
       "      <th></th>\n",
       "      <th>text</th>\n",
       "      <th>sims</th>\n",
       "    </tr>\n",
       "  </thead>\n",
       "  <tbody>\n",
       "    <tr>\n",
       "      <th>17</th>\n",
       "      <td>She glanced at him and then looked back out of...</td>\n",
       "      <td>0.970573</td>\n",
       "    </tr>\n",
       "    <tr>\n",
       "      <th>647</th>\n",
       "      <td>He turned his head back to Harry and stared at...</td>\n",
       "      <td>0.957789</td>\n",
       "    </tr>\n",
       "    <tr>\n",
       "      <th>749</th>\n",
       "      <td>Harry lunged forward, he seized a handful of t...</td>\n",
       "      <td>0.954897</td>\n",
       "    </tr>\n",
       "    <tr>\n",
       "      <th>996</th>\n",
       "      <td>For a second, Mr. Dursley didn't realize what ...</td>\n",
       "      <td>0.952174</td>\n",
       "    </tr>\n",
       "    <tr>\n",
       "      <th>414</th>\n",
       "      <td>Harry emerged from behind his towel; the chang...</td>\n",
       "      <td>0.952061</td>\n",
       "    </tr>\n",
       "  </tbody>\n",
       "</table>\n",
       "</div>"
      ],
      "text/plain": [
       "                                                  text      sims\n",
       "17   She glanced at him and then looked back out of...  0.970573\n",
       "647  He turned his head back to Harry and stared at...  0.957789\n",
       "749  Harry lunged forward, he seized a handful of t...  0.954897\n",
       "996  For a second, Mr. Dursley didn't realize what ...  0.952174\n",
       "414  Harry emerged from behind his towel; the chang...  0.952061"
      ]
     },
     "execution_count": 13,
     "metadata": {},
     "output_type": "execute_result"
    }
   ],
   "source": [
    "top_sim_scores = top_sim_scores.drop(columns='id')\n",
    "top_sim_scores"
   ]
  },
  {
   "cell_type": "code",
   "execution_count": 14,
   "metadata": {},
   "outputs": [
    {
     "name": "stdout",
     "output_type": "stream",
     "text": [
      "The most similar sentences are: She glanced at him and then looked back out of the window. \n",
      " with a similarity score of 0.97\n",
      "\n",
      "The most similar sentences are: He turned his head back to Harry and stared at him as though he couldn't believe his eyes. \n",
      " with a similarity score of 0.96\n",
      "\n",
      "The most similar sentences are: Harry lunged forward, he seized a handful of the brute's hair, but it was dragging Ron away as easily as though he were a rag doll  -   Then, out of nowhere, something hit Harry so hard across the face he was knocked off his feet again. \n",
      " with a similarity score of 0.95\n",
      "\n",
      "The most similar sentences are: For a second, Mr. Dursley didn't realize what he had seen  -  then he jerked his head around to look again. \n",
      " with a similarity score of 0.95\n",
      "\n",
      "The most similar sentences are: Harry emerged from behind his towel; the changing room was blurred because he was not wearing his glasses, but he could still tell that everyone's face was turned towards him. \n",
      " with a similarity score of 0.95\n",
      "\n"
     ]
    }
   ],
   "source": [
    "#Print the top 5 similar sentences along with the corresponding similarity scores\n",
    "\n",
    "for (text,sim) in zip(top_sim_scores['text'],top_sim_scores['sims']):\n",
    "    print(\"The most similar sentences are: {} \\n with a similarity score of {:.2f}\\n\".format(text,sim))"
   ]
  },
  {
   "cell_type": "code",
   "execution_count": null,
   "metadata": {},
   "outputs": [],
   "source": []
  }
 ],
 "metadata": {
  "kernelspec": {
   "display_name": "Python 3",
   "language": "python",
   "name": "python3"
  },
  "language_info": {
   "codemirror_mode": {
    "name": "ipython",
    "version": 3
   },
   "file_extension": ".py",
   "mimetype": "text/x-python",
   "name": "python",
   "nbconvert_exporter": "python",
   "pygments_lexer": "ipython3",
   "version": "3.7.6"
  },
  "varInspector": {
   "cols": {
    "lenName": 16,
    "lenType": 16,
    "lenVar": 40
   },
   "kernels_config": {
    "python": {
     "delete_cmd_postfix": "",
     "delete_cmd_prefix": "del ",
     "library": "var_list.py",
     "varRefreshCmd": "print(var_dic_list())"
    },
    "r": {
     "delete_cmd_postfix": ") ",
     "delete_cmd_prefix": "rm(",
     "library": "var_list.r",
     "varRefreshCmd": "cat(var_dic_list()) "
    }
   },
   "types_to_exclude": [
    "module",
    "function",
    "builtin_function_or_method",
    "instance",
    "_Feature"
   ],
   "window_display": false
  }
 },
 "nbformat": 4,
 "nbformat_minor": 4
}
