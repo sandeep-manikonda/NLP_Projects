{
 "cells": [
  {
   "cell_type": "code",
   "execution_count": 1,
   "metadata": {},
   "outputs": [],
   "source": [
    "from allennlp.predictors import Predictor\n",
    "import allennlp_models.rc\n",
    "import sys\n",
    "import os\n",
    "import warnings\n",
    "warnings.simplefilter(\"ignore\")"
   ]
  },
  {
   "cell_type": "code",
   "execution_count": 3,
   "metadata": {
    "collapsed": true
   },
   "outputs": [
    {
     "data": {
      "application/vnd.jupyter.widget-view+json": {
       "model_id": "1cf72bcb830c44cfadfee290465fc517",
       "version_major": 2,
       "version_minor": 0
      },
      "text/plain": [
       "HBox(children=(FloatProgress(value=0.0, description='downloading', max=711853497.0, style=ProgressStyle(descri…"
      ]
     },
     "metadata": {},
     "output_type": "display_data"
    },
    {
     "name": "stderr",
     "output_type": "stream",
     "text": [
      "\n",
      "error loading _jsonnet (this is expected on Windows), treating C:\\Users\\Padmaja\\AppData\\Local\\Temp\\tmppfwl_oqt\\config.json as plain json\n"
     ]
    },
    {
     "data": {
      "application/vnd.jupyter.widget-view+json": {
       "model_id": "f02ce0b1443646879f314fa72e4421c0",
       "version_major": 2,
       "version_minor": 0
      },
      "text/plain": [
       "HBox(children=(FloatProgress(value=0.0, description='downloading', max=336.0, style=ProgressStyle(description_…"
      ]
     },
     "metadata": {},
     "output_type": "display_data"
    },
    {
     "name": "stderr",
     "output_type": "stream",
     "text": [
      "\n"
     ]
    },
    {
     "data": {
      "application/vnd.jupyter.widget-view+json": {
       "model_id": "4e7ea1d309d243b3b16e9f4f6177c756",
       "version_major": 2,
       "version_minor": 0
      },
      "text/plain": [
       "HBox(children=(FloatProgress(value=0.0, description='downloading', max=374434792.0, style=ProgressStyle(descri…"
      ]
     },
     "metadata": {},
     "output_type": "display_data"
    },
    {
     "name": "stderr",
     "output_type": "stream",
     "text": [
      "\n"
     ]
    }
   ],
   "source": [
    "predictor = Predictor.from_path(\"https://storage.googleapis.com/allennlp-public-models/ner-model-2020.02.10.tar.gz\")"
   ]
  },
  {
   "cell_type": "code",
   "execution_count": 5,
   "metadata": {
    "collapsed": true
   },
   "outputs": [
    {
     "name": "stdout",
     "output_type": "stream",
     "text": [
      "Named\tO\n",
      "entity\tO\n",
      "recognition\tO\n",
      "(\tO\n",
      "NER\tU-ORG\n",
      ")\tO\n",
      "is\tO\n",
      "the\tO\n",
      "task\tO\n",
      "of\tO\n",
      "tagging\tO\n",
      "entities\tO\n",
      "in\tO\n",
      "text\tO\n",
      "with\tO\n",
      "their\tO\n",
      "corresponding\tO\n",
      "type\tO\n",
      ".\tO\n",
      "Example\tO\n",
      ":\tO\n",
      "Narendra\tB-PER\n",
      "Modi\tL-PER\n",
      "is\tO\n",
      "the\tO\n",
      "Prime\tO\n",
      "Minister\tO\n",
      "of\tO\n",
      "India\tU-LOC\n",
      ",\tO\n",
      "which\tO\n",
      "is\tO\n",
      "in\tO\n",
      "Asia\tU-LOC\n",
      ".\tO\n"
     ]
    }
   ],
   "source": [
    "sentence = \"Named entity recognition (NER) is the task of tagging entities in text with their corresponding type. Example: Narendra Modi is the Prime Minister of India, which is in Asia.\"\n",
    "\n",
    "results = predictor.predict(sentence = sentence)\n",
    "for word, tag in zip(results[\"words\"], results[\"tags\"]):\n",
    "    print(f\"{word}\\t{tag}\")"
   ]
  },
  {
   "cell_type": "code",
   "execution_count": 6,
   "metadata": {},
   "outputs": [
    {
     "data": {
      "text/plain": [
       "dict"
      ]
     },
     "execution_count": 6,
     "metadata": {},
     "output_type": "execute_result"
    }
   ],
   "source": [
    "type(results)"
   ]
  },
  {
   "cell_type": "code",
   "execution_count": 25,
   "metadata": {},
   "outputs": [],
   "source": [
    "def convert_results(allen_results):\n",
    "    ents = set()\n",
    "    for word, tag in zip(allen_results[\"words\"], allen_results[\"tags\"]):\n",
    "        if tag != \"O\":\n",
    "            ent_position, ent_type = tag.split(\"-\")\n",
    "            if ent_position == \"U\":\n",
    "                ents.add((word,ent_type))\n",
    "            else:\n",
    "                if ent_position == \"B\":\n",
    "                    w = word\n",
    "                elif ent_position == \"I\":\n",
    "                    w += \" \" + word\n",
    "                elif ent_position == \"L\":\n",
    "                    w += \" \" + word\n",
    "                    ents.add((w,ent_type))\n",
    "    return ents\n",
    "\n",
    "def allennlp_ner(document):\n",
    "    return convert_results(predictor.predict(sentence=document))"
   ]
  },
  {
   "cell_type": "code",
   "execution_count": 26,
   "metadata": {},
   "outputs": [
    {
     "data": {
      "text/plain": [
       "{('Asia', 'LOC'), ('India', 'LOC'), ('NER', 'ORG'), ('Narendra Modi', 'PER')}"
      ]
     },
     "execution_count": 26,
     "metadata": {},
     "output_type": "execute_result"
    }
   ],
   "source": [
    "allennlp_ner(sentence)"
   ]
  },
  {
   "cell_type": "code",
   "execution_count": 31,
   "metadata": {},
   "outputs": [],
   "source": [
    "sent2 = \"Narendra Modi, the Prime Minister of India, will meet the Queen Elizabeth in London and not in Delhi\""
   ]
  },
  {
   "cell_type": "code",
   "execution_count": 32,
   "metadata": {},
   "outputs": [
    {
     "data": {
      "text/plain": [
       "{('Delhi', 'LOC'),\n",
       " ('Elizabeth', 'PER'),\n",
       " ('India', 'LOC'),\n",
       " ('London', 'LOC'),\n",
       " ('Narendra Modi', 'PER')}"
      ]
     },
     "execution_count": 32,
     "metadata": {},
     "output_type": "execute_result"
    }
   ],
   "source": [
    "allennlp_ner(sent2)"
   ]
  },
  {
   "cell_type": "code",
   "execution_count": 33,
   "metadata": {},
   "outputs": [
    {
     "data": {
      "text/plain": [
       "'C:\\\\Users\\\\Padmaja'"
      ]
     },
     "execution_count": 33,
     "metadata": {},
     "output_type": "execute_result"
    }
   ],
   "source": [
    "os.getcwd()"
   ]
  },
  {
   "cell_type": "code",
   "execution_count": null,
   "metadata": {},
   "outputs": [],
   "source": []
  }
 ],
 "metadata": {
  "kernelspec": {
   "display_name": "Python 3",
   "language": "python",
   "name": "python3"
  },
  "language_info": {
   "codemirror_mode": {
    "name": "ipython",
    "version": 3
   },
   "file_extension": ".py",
   "mimetype": "text/x-python",
   "name": "python",
   "nbconvert_exporter": "python",
   "pygments_lexer": "ipython3",
   "version": "3.7.6"
  },
  "varInspector": {
   "cols": {
    "lenName": 16,
    "lenType": 16,
    "lenVar": 40
   },
   "kernels_config": {
    "python": {
     "delete_cmd_postfix": "",
     "delete_cmd_prefix": "del ",
     "library": "var_list.py",
     "varRefreshCmd": "print(var_dic_list())"
    },
    "r": {
     "delete_cmd_postfix": ") ",
     "delete_cmd_prefix": "rm(",
     "library": "var_list.r",
     "varRefreshCmd": "cat(var_dic_list()) "
    }
   },
   "types_to_exclude": [
    "module",
    "function",
    "builtin_function_or_method",
    "instance",
    "_Feature"
   ],
   "window_display": false
  }
 },
 "nbformat": 4,
 "nbformat_minor": 4
}
